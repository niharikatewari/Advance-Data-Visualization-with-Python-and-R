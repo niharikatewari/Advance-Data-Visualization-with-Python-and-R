{
  "nbformat": 4,
  "nbformat_minor": 0,
  "metadata": {
    "colab": {
      "provenance": []
    },
    "kernelspec": {
      "name": "python3",
      "display_name": "Python 3"
    },
    "language_info": {
      "name": "python"
    }
  },
  "cells": [
    {
      "cell_type": "code",
      "execution_count": 169,
      "metadata": {
        "id": "9yJedOf7ThLg"
      },
      "outputs": [],
      "source": [
        "import pandas as pd\n",
        "import numpy as np\n",
        "import seaborn as sns\n",
        "import matplotlib.pyplot as plt\n",
        "sns.set_theme(style='darkgrid', palette=\"pastel\")"
      ]
    },
    {
      "cell_type": "code",
      "source": [
        "df = pd.read_csv('bankloan.csv')"
      ],
      "metadata": {
        "id": "UXgXpXl4U7pY"
      },
      "execution_count": 220,
      "outputs": []
    },
    {
      "cell_type": "code",
      "source": [
        "df"
      ],
      "metadata": {
        "colab": {
          "base_uri": "https://localhost:8080/",
          "height": 423
        },
        "id": "bXxVagPCU-0f",
        "outputId": "7204c4f6-dd62-4553-a584-0cf7ab82cc1b"
      },
      "execution_count": 171,
      "outputs": [
        {
          "output_type": "execute_result",
          "data": {
            "text/plain": [
              "     age  ed  employ  address  income  debtinc   creddebt   othdebt  default\n",
              "0     41   3      17       12     176      9.3  11.359392  5.008608      1.0\n",
              "1     27   1      10        6      31     17.3   1.362202  4.000798      0.0\n",
              "2     40   1      15       14      55      5.5   0.856075  2.168925      0.0\n",
              "3     41   1      15       14     120      2.9   2.658720  0.821280      0.0\n",
              "4     24   2       2        0      28     17.3   1.787436  3.056564      1.0\n",
              "..   ...  ..     ...      ...     ...      ...        ...       ...      ...\n",
              "845   34   1      12       15      32      2.7   0.239328  0.624672      NaN\n",
              "846   32   2      12       11     116      5.7   4.026708  2.585292      NaN\n",
              "847   48   1      13       11      38     10.8   0.722304  3.381696      NaN\n",
              "848   35   2       1       11      24      7.8   0.417456  1.454544      NaN\n",
              "849   37   1      20       13      41     12.9   0.899130  4.389870      NaN\n",
              "\n",
              "[850 rows x 9 columns]"
            ],
            "text/html": [
              "\n",
              "  <div id=\"df-7ecfd123-840c-4616-8543-6aa429e870a0\">\n",
              "    <div class=\"colab-df-container\">\n",
              "      <div>\n",
              "<style scoped>\n",
              "    .dataframe tbody tr th:only-of-type {\n",
              "        vertical-align: middle;\n",
              "    }\n",
              "\n",
              "    .dataframe tbody tr th {\n",
              "        vertical-align: top;\n",
              "    }\n",
              "\n",
              "    .dataframe thead th {\n",
              "        text-align: right;\n",
              "    }\n",
              "</style>\n",
              "<table border=\"1\" class=\"dataframe\">\n",
              "  <thead>\n",
              "    <tr style=\"text-align: right;\">\n",
              "      <th></th>\n",
              "      <th>age</th>\n",
              "      <th>ed</th>\n",
              "      <th>employ</th>\n",
              "      <th>address</th>\n",
              "      <th>income</th>\n",
              "      <th>debtinc</th>\n",
              "      <th>creddebt</th>\n",
              "      <th>othdebt</th>\n",
              "      <th>default</th>\n",
              "    </tr>\n",
              "  </thead>\n",
              "  <tbody>\n",
              "    <tr>\n",
              "      <th>0</th>\n",
              "      <td>41</td>\n",
              "      <td>3</td>\n",
              "      <td>17</td>\n",
              "      <td>12</td>\n",
              "      <td>176</td>\n",
              "      <td>9.3</td>\n",
              "      <td>11.359392</td>\n",
              "      <td>5.008608</td>\n",
              "      <td>1.0</td>\n",
              "    </tr>\n",
              "    <tr>\n",
              "      <th>1</th>\n",
              "      <td>27</td>\n",
              "      <td>1</td>\n",
              "      <td>10</td>\n",
              "      <td>6</td>\n",
              "      <td>31</td>\n",
              "      <td>17.3</td>\n",
              "      <td>1.362202</td>\n",
              "      <td>4.000798</td>\n",
              "      <td>0.0</td>\n",
              "    </tr>\n",
              "    <tr>\n",
              "      <th>2</th>\n",
              "      <td>40</td>\n",
              "      <td>1</td>\n",
              "      <td>15</td>\n",
              "      <td>14</td>\n",
              "      <td>55</td>\n",
              "      <td>5.5</td>\n",
              "      <td>0.856075</td>\n",
              "      <td>2.168925</td>\n",
              "      <td>0.0</td>\n",
              "    </tr>\n",
              "    <tr>\n",
              "      <th>3</th>\n",
              "      <td>41</td>\n",
              "      <td>1</td>\n",
              "      <td>15</td>\n",
              "      <td>14</td>\n",
              "      <td>120</td>\n",
              "      <td>2.9</td>\n",
              "      <td>2.658720</td>\n",
              "      <td>0.821280</td>\n",
              "      <td>0.0</td>\n",
              "    </tr>\n",
              "    <tr>\n",
              "      <th>4</th>\n",
              "      <td>24</td>\n",
              "      <td>2</td>\n",
              "      <td>2</td>\n",
              "      <td>0</td>\n",
              "      <td>28</td>\n",
              "      <td>17.3</td>\n",
              "      <td>1.787436</td>\n",
              "      <td>3.056564</td>\n",
              "      <td>1.0</td>\n",
              "    </tr>\n",
              "    <tr>\n",
              "      <th>...</th>\n",
              "      <td>...</td>\n",
              "      <td>...</td>\n",
              "      <td>...</td>\n",
              "      <td>...</td>\n",
              "      <td>...</td>\n",
              "      <td>...</td>\n",
              "      <td>...</td>\n",
              "      <td>...</td>\n",
              "      <td>...</td>\n",
              "    </tr>\n",
              "    <tr>\n",
              "      <th>845</th>\n",
              "      <td>34</td>\n",
              "      <td>1</td>\n",
              "      <td>12</td>\n",
              "      <td>15</td>\n",
              "      <td>32</td>\n",
              "      <td>2.7</td>\n",
              "      <td>0.239328</td>\n",
              "      <td>0.624672</td>\n",
              "      <td>NaN</td>\n",
              "    </tr>\n",
              "    <tr>\n",
              "      <th>846</th>\n",
              "      <td>32</td>\n",
              "      <td>2</td>\n",
              "      <td>12</td>\n",
              "      <td>11</td>\n",
              "      <td>116</td>\n",
              "      <td>5.7</td>\n",
              "      <td>4.026708</td>\n",
              "      <td>2.585292</td>\n",
              "      <td>NaN</td>\n",
              "    </tr>\n",
              "    <tr>\n",
              "      <th>847</th>\n",
              "      <td>48</td>\n",
              "      <td>1</td>\n",
              "      <td>13</td>\n",
              "      <td>11</td>\n",
              "      <td>38</td>\n",
              "      <td>10.8</td>\n",
              "      <td>0.722304</td>\n",
              "      <td>3.381696</td>\n",
              "      <td>NaN</td>\n",
              "    </tr>\n",
              "    <tr>\n",
              "      <th>848</th>\n",
              "      <td>35</td>\n",
              "      <td>2</td>\n",
              "      <td>1</td>\n",
              "      <td>11</td>\n",
              "      <td>24</td>\n",
              "      <td>7.8</td>\n",
              "      <td>0.417456</td>\n",
              "      <td>1.454544</td>\n",
              "      <td>NaN</td>\n",
              "    </tr>\n",
              "    <tr>\n",
              "      <th>849</th>\n",
              "      <td>37</td>\n",
              "      <td>1</td>\n",
              "      <td>20</td>\n",
              "      <td>13</td>\n",
              "      <td>41</td>\n",
              "      <td>12.9</td>\n",
              "      <td>0.899130</td>\n",
              "      <td>4.389870</td>\n",
              "      <td>NaN</td>\n",
              "    </tr>\n",
              "  </tbody>\n",
              "</table>\n",
              "<p>850 rows × 9 columns</p>\n",
              "</div>\n",
              "      <button class=\"colab-df-convert\" onclick=\"convertToInteractive('df-7ecfd123-840c-4616-8543-6aa429e870a0')\"\n",
              "              title=\"Convert this dataframe to an interactive table.\"\n",
              "              style=\"display:none;\">\n",
              "        \n",
              "  <svg xmlns=\"http://www.w3.org/2000/svg\" height=\"24px\"viewBox=\"0 0 24 24\"\n",
              "       width=\"24px\">\n",
              "    <path d=\"M0 0h24v24H0V0z\" fill=\"none\"/>\n",
              "    <path d=\"M18.56 5.44l.94 2.06.94-2.06 2.06-.94-2.06-.94-.94-2.06-.94 2.06-2.06.94zm-11 1L8.5 8.5l.94-2.06 2.06-.94-2.06-.94L8.5 2.5l-.94 2.06-2.06.94zm10 10l.94 2.06.94-2.06 2.06-.94-2.06-.94-.94-2.06-.94 2.06-2.06.94z\"/><path d=\"M17.41 7.96l-1.37-1.37c-.4-.4-.92-.59-1.43-.59-.52 0-1.04.2-1.43.59L10.3 9.45l-7.72 7.72c-.78.78-.78 2.05 0 2.83L4 21.41c.39.39.9.59 1.41.59.51 0 1.02-.2 1.41-.59l7.78-7.78 2.81-2.81c.8-.78.8-2.07 0-2.86zM5.41 20L4 18.59l7.72-7.72 1.47 1.35L5.41 20z\"/>\n",
              "  </svg>\n",
              "      </button>\n",
              "      \n",
              "  <style>\n",
              "    .colab-df-container {\n",
              "      display:flex;\n",
              "      flex-wrap:wrap;\n",
              "      gap: 12px;\n",
              "    }\n",
              "\n",
              "    .colab-df-convert {\n",
              "      background-color: #E8F0FE;\n",
              "      border: none;\n",
              "      border-radius: 50%;\n",
              "      cursor: pointer;\n",
              "      display: none;\n",
              "      fill: #1967D2;\n",
              "      height: 32px;\n",
              "      padding: 0 0 0 0;\n",
              "      width: 32px;\n",
              "    }\n",
              "\n",
              "    .colab-df-convert:hover {\n",
              "      background-color: #E2EBFA;\n",
              "      box-shadow: 0px 1px 2px rgba(60, 64, 67, 0.3), 0px 1px 3px 1px rgba(60, 64, 67, 0.15);\n",
              "      fill: #174EA6;\n",
              "    }\n",
              "\n",
              "    [theme=dark] .colab-df-convert {\n",
              "      background-color: #3B4455;\n",
              "      fill: #D2E3FC;\n",
              "    }\n",
              "\n",
              "    [theme=dark] .colab-df-convert:hover {\n",
              "      background-color: #434B5C;\n",
              "      box-shadow: 0px 1px 3px 1px rgba(0, 0, 0, 0.15);\n",
              "      filter: drop-shadow(0px 1px 2px rgba(0, 0, 0, 0.3));\n",
              "      fill: #FFFFFF;\n",
              "    }\n",
              "  </style>\n",
              "\n",
              "      <script>\n",
              "        const buttonEl =\n",
              "          document.querySelector('#df-7ecfd123-840c-4616-8543-6aa429e870a0 button.colab-df-convert');\n",
              "        buttonEl.style.display =\n",
              "          google.colab.kernel.accessAllowed ? 'block' : 'none';\n",
              "\n",
              "        async function convertToInteractive(key) {\n",
              "          const element = document.querySelector('#df-7ecfd123-840c-4616-8543-6aa429e870a0');\n",
              "          const dataTable =\n",
              "            await google.colab.kernel.invokeFunction('convertToInteractive',\n",
              "                                                     [key], {});\n",
              "          if (!dataTable) return;\n",
              "\n",
              "          const docLinkHtml = 'Like what you see? Visit the ' +\n",
              "            '<a target=\"_blank\" href=https://colab.research.google.com/notebooks/data_table.ipynb>data table notebook</a>'\n",
              "            + ' to learn more about interactive tables.';\n",
              "          element.innerHTML = '';\n",
              "          dataTable['output_type'] = 'display_data';\n",
              "          await google.colab.output.renderOutput(dataTable, element);\n",
              "          const docLink = document.createElement('div');\n",
              "          docLink.innerHTML = docLinkHtml;\n",
              "          element.appendChild(docLink);\n",
              "        }\n",
              "      </script>\n",
              "    </div>\n",
              "  </div>\n",
              "  "
            ]
          },
          "metadata": {},
          "execution_count": 171
        }
      ]
    },
    {
      "cell_type": "code",
      "source": [
        "df.shape"
      ],
      "metadata": {
        "colab": {
          "base_uri": "https://localhost:8080/"
        },
        "id": "t8LDFEvdVAGA",
        "outputId": "6e0b918d-3f41-45b5-dd22-2c89ab2c626e"
      },
      "execution_count": 172,
      "outputs": [
        {
          "output_type": "execute_result",
          "data": {
            "text/plain": [
              "(850, 9)"
            ]
          },
          "metadata": {},
          "execution_count": 172
        }
      ]
    },
    {
      "cell_type": "code",
      "source": [
        "df.describe().T"
      ],
      "metadata": {
        "colab": {
          "base_uri": "https://localhost:8080/",
          "height": 331
        },
        "id": "rGILcdIUVBYv",
        "outputId": "091b1972-f66a-4a9f-c48a-d0ef9e676bcf"
      },
      "execution_count": 173,
      "outputs": [
        {
          "output_type": "execute_result",
          "data": {
            "text/plain": [
              "          count       mean        std        min        25%        50%  \\\n",
              "age       850.0  35.029412   8.041432  20.000000  29.000000  34.000000   \n",
              "ed        850.0   1.710588   0.927784   1.000000   1.000000   1.000000   \n",
              "employ    850.0   8.565882   6.777884   0.000000   3.000000   7.000000   \n",
              "address   850.0   8.371765   6.895016   0.000000   3.000000   7.000000   \n",
              "income    850.0  46.675294  38.543054  13.000000  24.000000  35.000000   \n",
              "debtinc   850.0  10.171647   6.719441   0.100000   5.100000   8.700000   \n",
              "creddebt  850.0   1.576805   2.125840   0.011696   0.382176   0.885091   \n",
              "othdebt   850.0   3.078789   3.398803   0.045584   1.045942   2.003243   \n",
              "default   700.0   0.261429   0.439727   0.000000   0.000000   0.000000   \n",
              "\n",
              "                75%        max  \n",
              "age       41.000000   56.00000  \n",
              "ed         2.000000    5.00000  \n",
              "employ    13.000000   33.00000  \n",
              "address   12.000000   34.00000  \n",
              "income    55.750000  446.00000  \n",
              "debtinc   13.800000   41.30000  \n",
              "creddebt   1.898440   20.56131  \n",
              "othdebt    3.903001   35.19750  \n",
              "default    1.000000    1.00000  "
            ],
            "text/html": [
              "\n",
              "  <div id=\"df-59697182-fe62-48cc-a46b-9414b3482da3\">\n",
              "    <div class=\"colab-df-container\">\n",
              "      <div>\n",
              "<style scoped>\n",
              "    .dataframe tbody tr th:only-of-type {\n",
              "        vertical-align: middle;\n",
              "    }\n",
              "\n",
              "    .dataframe tbody tr th {\n",
              "        vertical-align: top;\n",
              "    }\n",
              "\n",
              "    .dataframe thead th {\n",
              "        text-align: right;\n",
              "    }\n",
              "</style>\n",
              "<table border=\"1\" class=\"dataframe\">\n",
              "  <thead>\n",
              "    <tr style=\"text-align: right;\">\n",
              "      <th></th>\n",
              "      <th>count</th>\n",
              "      <th>mean</th>\n",
              "      <th>std</th>\n",
              "      <th>min</th>\n",
              "      <th>25%</th>\n",
              "      <th>50%</th>\n",
              "      <th>75%</th>\n",
              "      <th>max</th>\n",
              "    </tr>\n",
              "  </thead>\n",
              "  <tbody>\n",
              "    <tr>\n",
              "      <th>age</th>\n",
              "      <td>850.0</td>\n",
              "      <td>35.029412</td>\n",
              "      <td>8.041432</td>\n",
              "      <td>20.000000</td>\n",
              "      <td>29.000000</td>\n",
              "      <td>34.000000</td>\n",
              "      <td>41.000000</td>\n",
              "      <td>56.00000</td>\n",
              "    </tr>\n",
              "    <tr>\n",
              "      <th>ed</th>\n",
              "      <td>850.0</td>\n",
              "      <td>1.710588</td>\n",
              "      <td>0.927784</td>\n",
              "      <td>1.000000</td>\n",
              "      <td>1.000000</td>\n",
              "      <td>1.000000</td>\n",
              "      <td>2.000000</td>\n",
              "      <td>5.00000</td>\n",
              "    </tr>\n",
              "    <tr>\n",
              "      <th>employ</th>\n",
              "      <td>850.0</td>\n",
              "      <td>8.565882</td>\n",
              "      <td>6.777884</td>\n",
              "      <td>0.000000</td>\n",
              "      <td>3.000000</td>\n",
              "      <td>7.000000</td>\n",
              "      <td>13.000000</td>\n",
              "      <td>33.00000</td>\n",
              "    </tr>\n",
              "    <tr>\n",
              "      <th>address</th>\n",
              "      <td>850.0</td>\n",
              "      <td>8.371765</td>\n",
              "      <td>6.895016</td>\n",
              "      <td>0.000000</td>\n",
              "      <td>3.000000</td>\n",
              "      <td>7.000000</td>\n",
              "      <td>12.000000</td>\n",
              "      <td>34.00000</td>\n",
              "    </tr>\n",
              "    <tr>\n",
              "      <th>income</th>\n",
              "      <td>850.0</td>\n",
              "      <td>46.675294</td>\n",
              "      <td>38.543054</td>\n",
              "      <td>13.000000</td>\n",
              "      <td>24.000000</td>\n",
              "      <td>35.000000</td>\n",
              "      <td>55.750000</td>\n",
              "      <td>446.00000</td>\n",
              "    </tr>\n",
              "    <tr>\n",
              "      <th>debtinc</th>\n",
              "      <td>850.0</td>\n",
              "      <td>10.171647</td>\n",
              "      <td>6.719441</td>\n",
              "      <td>0.100000</td>\n",
              "      <td>5.100000</td>\n",
              "      <td>8.700000</td>\n",
              "      <td>13.800000</td>\n",
              "      <td>41.30000</td>\n",
              "    </tr>\n",
              "    <tr>\n",
              "      <th>creddebt</th>\n",
              "      <td>850.0</td>\n",
              "      <td>1.576805</td>\n",
              "      <td>2.125840</td>\n",
              "      <td>0.011696</td>\n",
              "      <td>0.382176</td>\n",
              "      <td>0.885091</td>\n",
              "      <td>1.898440</td>\n",
              "      <td>20.56131</td>\n",
              "    </tr>\n",
              "    <tr>\n",
              "      <th>othdebt</th>\n",
              "      <td>850.0</td>\n",
              "      <td>3.078789</td>\n",
              "      <td>3.398803</td>\n",
              "      <td>0.045584</td>\n",
              "      <td>1.045942</td>\n",
              "      <td>2.003243</td>\n",
              "      <td>3.903001</td>\n",
              "      <td>35.19750</td>\n",
              "    </tr>\n",
              "    <tr>\n",
              "      <th>default</th>\n",
              "      <td>700.0</td>\n",
              "      <td>0.261429</td>\n",
              "      <td>0.439727</td>\n",
              "      <td>0.000000</td>\n",
              "      <td>0.000000</td>\n",
              "      <td>0.000000</td>\n",
              "      <td>1.000000</td>\n",
              "      <td>1.00000</td>\n",
              "    </tr>\n",
              "  </tbody>\n",
              "</table>\n",
              "</div>\n",
              "      <button class=\"colab-df-convert\" onclick=\"convertToInteractive('df-59697182-fe62-48cc-a46b-9414b3482da3')\"\n",
              "              title=\"Convert this dataframe to an interactive table.\"\n",
              "              style=\"display:none;\">\n",
              "        \n",
              "  <svg xmlns=\"http://www.w3.org/2000/svg\" height=\"24px\"viewBox=\"0 0 24 24\"\n",
              "       width=\"24px\">\n",
              "    <path d=\"M0 0h24v24H0V0z\" fill=\"none\"/>\n",
              "    <path d=\"M18.56 5.44l.94 2.06.94-2.06 2.06-.94-2.06-.94-.94-2.06-.94 2.06-2.06.94zm-11 1L8.5 8.5l.94-2.06 2.06-.94-2.06-.94L8.5 2.5l-.94 2.06-2.06.94zm10 10l.94 2.06.94-2.06 2.06-.94-2.06-.94-.94-2.06-.94 2.06-2.06.94z\"/><path d=\"M17.41 7.96l-1.37-1.37c-.4-.4-.92-.59-1.43-.59-.52 0-1.04.2-1.43.59L10.3 9.45l-7.72 7.72c-.78.78-.78 2.05 0 2.83L4 21.41c.39.39.9.59 1.41.59.51 0 1.02-.2 1.41-.59l7.78-7.78 2.81-2.81c.8-.78.8-2.07 0-2.86zM5.41 20L4 18.59l7.72-7.72 1.47 1.35L5.41 20z\"/>\n",
              "  </svg>\n",
              "      </button>\n",
              "      \n",
              "  <style>\n",
              "    .colab-df-container {\n",
              "      display:flex;\n",
              "      flex-wrap:wrap;\n",
              "      gap: 12px;\n",
              "    }\n",
              "\n",
              "    .colab-df-convert {\n",
              "      background-color: #E8F0FE;\n",
              "      border: none;\n",
              "      border-radius: 50%;\n",
              "      cursor: pointer;\n",
              "      display: none;\n",
              "      fill: #1967D2;\n",
              "      height: 32px;\n",
              "      padding: 0 0 0 0;\n",
              "      width: 32px;\n",
              "    }\n",
              "\n",
              "    .colab-df-convert:hover {\n",
              "      background-color: #E2EBFA;\n",
              "      box-shadow: 0px 1px 2px rgba(60, 64, 67, 0.3), 0px 1px 3px 1px rgba(60, 64, 67, 0.15);\n",
              "      fill: #174EA6;\n",
              "    }\n",
              "\n",
              "    [theme=dark] .colab-df-convert {\n",
              "      background-color: #3B4455;\n",
              "      fill: #D2E3FC;\n",
              "    }\n",
              "\n",
              "    [theme=dark] .colab-df-convert:hover {\n",
              "      background-color: #434B5C;\n",
              "      box-shadow: 0px 1px 3px 1px rgba(0, 0, 0, 0.15);\n",
              "      filter: drop-shadow(0px 1px 2px rgba(0, 0, 0, 0.3));\n",
              "      fill: #FFFFFF;\n",
              "    }\n",
              "  </style>\n",
              "\n",
              "      <script>\n",
              "        const buttonEl =\n",
              "          document.querySelector('#df-59697182-fe62-48cc-a46b-9414b3482da3 button.colab-df-convert');\n",
              "        buttonEl.style.display =\n",
              "          google.colab.kernel.accessAllowed ? 'block' : 'none';\n",
              "\n",
              "        async function convertToInteractive(key) {\n",
              "          const element = document.querySelector('#df-59697182-fe62-48cc-a46b-9414b3482da3');\n",
              "          const dataTable =\n",
              "            await google.colab.kernel.invokeFunction('convertToInteractive',\n",
              "                                                     [key], {});\n",
              "          if (!dataTable) return;\n",
              "\n",
              "          const docLinkHtml = 'Like what you see? Visit the ' +\n",
              "            '<a target=\"_blank\" href=https://colab.research.google.com/notebooks/data_table.ipynb>data table notebook</a>'\n",
              "            + ' to learn more about interactive tables.';\n",
              "          element.innerHTML = '';\n",
              "          dataTable['output_type'] = 'display_data';\n",
              "          await google.colab.output.renderOutput(dataTable, element);\n",
              "          const docLink = document.createElement('div');\n",
              "          docLink.innerHTML = docLinkHtml;\n",
              "          element.appendChild(docLink);\n",
              "        }\n",
              "      </script>\n",
              "    </div>\n",
              "  </div>\n",
              "  "
            ]
          },
          "metadata": {},
          "execution_count": 173
        }
      ]
    },
    {
      "cell_type": "code",
      "source": [
        "df.info()"
      ],
      "metadata": {
        "colab": {
          "base_uri": "https://localhost:8080/"
        },
        "id": "NzssUIqkVE3X",
        "outputId": "4f6e74af-0156-4d8c-9138-320255280475"
      },
      "execution_count": 174,
      "outputs": [
        {
          "output_type": "stream",
          "name": "stdout",
          "text": [
            "<class 'pandas.core.frame.DataFrame'>\n",
            "RangeIndex: 850 entries, 0 to 849\n",
            "Data columns (total 9 columns):\n",
            " #   Column    Non-Null Count  Dtype  \n",
            "---  ------    --------------  -----  \n",
            " 0   age       850 non-null    int64  \n",
            " 1   ed        850 non-null    int64  \n",
            " 2   employ    850 non-null    int64  \n",
            " 3   address   850 non-null    int64  \n",
            " 4   income    850 non-null    int64  \n",
            " 5   debtinc   850 non-null    float64\n",
            " 6   creddebt  850 non-null    float64\n",
            " 7   othdebt   850 non-null    float64\n",
            " 8   default   700 non-null    float64\n",
            "dtypes: float64(4), int64(5)\n",
            "memory usage: 59.9 KB\n"
          ]
        }
      ]
    },
    {
      "cell_type": "code",
      "source": [
        "df.corr()"
      ],
      "metadata": {
        "colab": {
          "base_uri": "https://localhost:8080/",
          "height": 331
        },
        "id": "LF9Ad_CPVG9v",
        "outputId": "125f0286-96cf-4070-e335-e66bb17b012e"
      },
      "execution_count": 175,
      "outputs": [
        {
          "output_type": "execute_result",
          "data": {
            "text/plain": [
              "               age        ed    employ   address    income   debtinc  \\\n",
              "age       1.000000  0.012983  0.554241  0.599949  0.476218  0.008240   \n",
              "ed        0.012983  1.000000 -0.151117  0.052927  0.218219  0.008053   \n",
              "employ    0.554241 -0.151117  1.000000  0.344664  0.625093 -0.033625   \n",
              "address   0.599949  0.052927  0.344664  1.000000  0.308340 -0.032939   \n",
              "income    0.476218  0.218219  0.625093  0.308340  1.000000 -0.035585   \n",
              "debtinc   0.008240  0.008053 -0.033625 -0.032939 -0.035585  1.000000   \n",
              "creddebt  0.278907  0.099080  0.381741  0.161641  0.551515  0.514965   \n",
              "othdebt   0.337841  0.140937  0.414431  0.185481  0.603352  0.572548   \n",
              "default  -0.137657  0.114676 -0.282978 -0.164451 -0.070970  0.389575   \n",
              "\n",
              "          creddebt   othdebt   default  \n",
              "age       0.278907  0.337841 -0.137657  \n",
              "ed        0.099080  0.140937  0.114676  \n",
              "employ    0.381741  0.414431 -0.282978  \n",
              "address   0.161641  0.185481 -0.164451  \n",
              "income    0.551515  0.603352 -0.070970  \n",
              "debtinc   0.514965  0.572548  0.389575  \n",
              "creddebt  1.000000  0.644952  0.244740  \n",
              "othdebt   0.644952  1.000000  0.145713  \n",
              "default   0.244740  0.145713  1.000000  "
            ],
            "text/html": [
              "\n",
              "  <div id=\"df-605b0fa0-9b21-44f0-b582-d993f07a18d9\">\n",
              "    <div class=\"colab-df-container\">\n",
              "      <div>\n",
              "<style scoped>\n",
              "    .dataframe tbody tr th:only-of-type {\n",
              "        vertical-align: middle;\n",
              "    }\n",
              "\n",
              "    .dataframe tbody tr th {\n",
              "        vertical-align: top;\n",
              "    }\n",
              "\n",
              "    .dataframe thead th {\n",
              "        text-align: right;\n",
              "    }\n",
              "</style>\n",
              "<table border=\"1\" class=\"dataframe\">\n",
              "  <thead>\n",
              "    <tr style=\"text-align: right;\">\n",
              "      <th></th>\n",
              "      <th>age</th>\n",
              "      <th>ed</th>\n",
              "      <th>employ</th>\n",
              "      <th>address</th>\n",
              "      <th>income</th>\n",
              "      <th>debtinc</th>\n",
              "      <th>creddebt</th>\n",
              "      <th>othdebt</th>\n",
              "      <th>default</th>\n",
              "    </tr>\n",
              "  </thead>\n",
              "  <tbody>\n",
              "    <tr>\n",
              "      <th>age</th>\n",
              "      <td>1.000000</td>\n",
              "      <td>0.012983</td>\n",
              "      <td>0.554241</td>\n",
              "      <td>0.599949</td>\n",
              "      <td>0.476218</td>\n",
              "      <td>0.008240</td>\n",
              "      <td>0.278907</td>\n",
              "      <td>0.337841</td>\n",
              "      <td>-0.137657</td>\n",
              "    </tr>\n",
              "    <tr>\n",
              "      <th>ed</th>\n",
              "      <td>0.012983</td>\n",
              "      <td>1.000000</td>\n",
              "      <td>-0.151117</td>\n",
              "      <td>0.052927</td>\n",
              "      <td>0.218219</td>\n",
              "      <td>0.008053</td>\n",
              "      <td>0.099080</td>\n",
              "      <td>0.140937</td>\n",
              "      <td>0.114676</td>\n",
              "    </tr>\n",
              "    <tr>\n",
              "      <th>employ</th>\n",
              "      <td>0.554241</td>\n",
              "      <td>-0.151117</td>\n",
              "      <td>1.000000</td>\n",
              "      <td>0.344664</td>\n",
              "      <td>0.625093</td>\n",
              "      <td>-0.033625</td>\n",
              "      <td>0.381741</td>\n",
              "      <td>0.414431</td>\n",
              "      <td>-0.282978</td>\n",
              "    </tr>\n",
              "    <tr>\n",
              "      <th>address</th>\n",
              "      <td>0.599949</td>\n",
              "      <td>0.052927</td>\n",
              "      <td>0.344664</td>\n",
              "      <td>1.000000</td>\n",
              "      <td>0.308340</td>\n",
              "      <td>-0.032939</td>\n",
              "      <td>0.161641</td>\n",
              "      <td>0.185481</td>\n",
              "      <td>-0.164451</td>\n",
              "    </tr>\n",
              "    <tr>\n",
              "      <th>income</th>\n",
              "      <td>0.476218</td>\n",
              "      <td>0.218219</td>\n",
              "      <td>0.625093</td>\n",
              "      <td>0.308340</td>\n",
              "      <td>1.000000</td>\n",
              "      <td>-0.035585</td>\n",
              "      <td>0.551515</td>\n",
              "      <td>0.603352</td>\n",
              "      <td>-0.070970</td>\n",
              "    </tr>\n",
              "    <tr>\n",
              "      <th>debtinc</th>\n",
              "      <td>0.008240</td>\n",
              "      <td>0.008053</td>\n",
              "      <td>-0.033625</td>\n",
              "      <td>-0.032939</td>\n",
              "      <td>-0.035585</td>\n",
              "      <td>1.000000</td>\n",
              "      <td>0.514965</td>\n",
              "      <td>0.572548</td>\n",
              "      <td>0.389575</td>\n",
              "    </tr>\n",
              "    <tr>\n",
              "      <th>creddebt</th>\n",
              "      <td>0.278907</td>\n",
              "      <td>0.099080</td>\n",
              "      <td>0.381741</td>\n",
              "      <td>0.161641</td>\n",
              "      <td>0.551515</td>\n",
              "      <td>0.514965</td>\n",
              "      <td>1.000000</td>\n",
              "      <td>0.644952</td>\n",
              "      <td>0.244740</td>\n",
              "    </tr>\n",
              "    <tr>\n",
              "      <th>othdebt</th>\n",
              "      <td>0.337841</td>\n",
              "      <td>0.140937</td>\n",
              "      <td>0.414431</td>\n",
              "      <td>0.185481</td>\n",
              "      <td>0.603352</td>\n",
              "      <td>0.572548</td>\n",
              "      <td>0.644952</td>\n",
              "      <td>1.000000</td>\n",
              "      <td>0.145713</td>\n",
              "    </tr>\n",
              "    <tr>\n",
              "      <th>default</th>\n",
              "      <td>-0.137657</td>\n",
              "      <td>0.114676</td>\n",
              "      <td>-0.282978</td>\n",
              "      <td>-0.164451</td>\n",
              "      <td>-0.070970</td>\n",
              "      <td>0.389575</td>\n",
              "      <td>0.244740</td>\n",
              "      <td>0.145713</td>\n",
              "      <td>1.000000</td>\n",
              "    </tr>\n",
              "  </tbody>\n",
              "</table>\n",
              "</div>\n",
              "      <button class=\"colab-df-convert\" onclick=\"convertToInteractive('df-605b0fa0-9b21-44f0-b582-d993f07a18d9')\"\n",
              "              title=\"Convert this dataframe to an interactive table.\"\n",
              "              style=\"display:none;\">\n",
              "        \n",
              "  <svg xmlns=\"http://www.w3.org/2000/svg\" height=\"24px\"viewBox=\"0 0 24 24\"\n",
              "       width=\"24px\">\n",
              "    <path d=\"M0 0h24v24H0V0z\" fill=\"none\"/>\n",
              "    <path d=\"M18.56 5.44l.94 2.06.94-2.06 2.06-.94-2.06-.94-.94-2.06-.94 2.06-2.06.94zm-11 1L8.5 8.5l.94-2.06 2.06-.94-2.06-.94L8.5 2.5l-.94 2.06-2.06.94zm10 10l.94 2.06.94-2.06 2.06-.94-2.06-.94-.94-2.06-.94 2.06-2.06.94z\"/><path d=\"M17.41 7.96l-1.37-1.37c-.4-.4-.92-.59-1.43-.59-.52 0-1.04.2-1.43.59L10.3 9.45l-7.72 7.72c-.78.78-.78 2.05 0 2.83L4 21.41c.39.39.9.59 1.41.59.51 0 1.02-.2 1.41-.59l7.78-7.78 2.81-2.81c.8-.78.8-2.07 0-2.86zM5.41 20L4 18.59l7.72-7.72 1.47 1.35L5.41 20z\"/>\n",
              "  </svg>\n",
              "      </button>\n",
              "      \n",
              "  <style>\n",
              "    .colab-df-container {\n",
              "      display:flex;\n",
              "      flex-wrap:wrap;\n",
              "      gap: 12px;\n",
              "    }\n",
              "\n",
              "    .colab-df-convert {\n",
              "      background-color: #E8F0FE;\n",
              "      border: none;\n",
              "      border-radius: 50%;\n",
              "      cursor: pointer;\n",
              "      display: none;\n",
              "      fill: #1967D2;\n",
              "      height: 32px;\n",
              "      padding: 0 0 0 0;\n",
              "      width: 32px;\n",
              "    }\n",
              "\n",
              "    .colab-df-convert:hover {\n",
              "      background-color: #E2EBFA;\n",
              "      box-shadow: 0px 1px 2px rgba(60, 64, 67, 0.3), 0px 1px 3px 1px rgba(60, 64, 67, 0.15);\n",
              "      fill: #174EA6;\n",
              "    }\n",
              "\n",
              "    [theme=dark] .colab-df-convert {\n",
              "      background-color: #3B4455;\n",
              "      fill: #D2E3FC;\n",
              "    }\n",
              "\n",
              "    [theme=dark] .colab-df-convert:hover {\n",
              "      background-color: #434B5C;\n",
              "      box-shadow: 0px 1px 3px 1px rgba(0, 0, 0, 0.15);\n",
              "      filter: drop-shadow(0px 1px 2px rgba(0, 0, 0, 0.3));\n",
              "      fill: #FFFFFF;\n",
              "    }\n",
              "  </style>\n",
              "\n",
              "      <script>\n",
              "        const buttonEl =\n",
              "          document.querySelector('#df-605b0fa0-9b21-44f0-b582-d993f07a18d9 button.colab-df-convert');\n",
              "        buttonEl.style.display =\n",
              "          google.colab.kernel.accessAllowed ? 'block' : 'none';\n",
              "\n",
              "        async function convertToInteractive(key) {\n",
              "          const element = document.querySelector('#df-605b0fa0-9b21-44f0-b582-d993f07a18d9');\n",
              "          const dataTable =\n",
              "            await google.colab.kernel.invokeFunction('convertToInteractive',\n",
              "                                                     [key], {});\n",
              "          if (!dataTable) return;\n",
              "\n",
              "          const docLinkHtml = 'Like what you see? Visit the ' +\n",
              "            '<a target=\"_blank\" href=https://colab.research.google.com/notebooks/data_table.ipynb>data table notebook</a>'\n",
              "            + ' to learn more about interactive tables.';\n",
              "          element.innerHTML = '';\n",
              "          dataTable['output_type'] = 'display_data';\n",
              "          await google.colab.output.renderOutput(dataTable, element);\n",
              "          const docLink = document.createElement('div');\n",
              "          docLink.innerHTML = docLinkHtml;\n",
              "          element.appendChild(docLink);\n",
              "        }\n",
              "      </script>\n",
              "    </div>\n",
              "  </div>\n",
              "  "
            ]
          },
          "metadata": {},
          "execution_count": 175
        }
      ]
    },
    {
      "cell_type": "markdown",
      "source": [
        "DATA PREPROCESSING"
      ],
      "metadata": {
        "id": "gRv8jVTjVN3_"
      }
    },
    {
      "cell_type": "code",
      "source": [
        "df.isnull().sum()"
      ],
      "metadata": {
        "colab": {
          "base_uri": "https://localhost:8080/"
        },
        "id": "unme2qglVMGf",
        "outputId": "be62d8f9-366f-4683-eee4-0f72146e9cd7"
      },
      "execution_count": 176,
      "outputs": [
        {
          "output_type": "execute_result",
          "data": {
            "text/plain": [
              "age           0\n",
              "ed            0\n",
              "employ        0\n",
              "address       0\n",
              "income        0\n",
              "debtinc       0\n",
              "creddebt      0\n",
              "othdebt       0\n",
              "default     150\n",
              "dtype: int64"
            ]
          },
          "metadata": {},
          "execution_count": 176
        }
      ]
    },
    {
      "cell_type": "code",
      "source": [
        "df.dtypes"
      ],
      "metadata": {
        "colab": {
          "base_uri": "https://localhost:8080/"
        },
        "id": "yyS2RYGKVSn3",
        "outputId": "65010b9b-0e61-4b31-e173-19a0c52aaa14"
      },
      "execution_count": 177,
      "outputs": [
        {
          "output_type": "execute_result",
          "data": {
            "text/plain": [
              "age           int64\n",
              "ed            int64\n",
              "employ        int64\n",
              "address       int64\n",
              "income        int64\n",
              "debtinc     float64\n",
              "creddebt    float64\n",
              "othdebt     float64\n",
              "default     float64\n",
              "dtype: object"
            ]
          },
          "metadata": {},
          "execution_count": 177
        }
      ]
    },
    {
      "cell_type": "code",
      "source": [
        "df1 = df.dropna()\n",
        "df1"
      ],
      "metadata": {
        "colab": {
          "base_uri": "https://localhost:8080/",
          "height": 423
        },
        "id": "kgGDvlUIVVEi",
        "outputId": "ffb64280-2d41-4498-ae6f-5c1c93dc93ac"
      },
      "execution_count": 178,
      "outputs": [
        {
          "output_type": "execute_result",
          "data": {
            "text/plain": [
              "     age  ed  employ  address  income  debtinc   creddebt   othdebt  default\n",
              "0     41   3      17       12     176      9.3  11.359392  5.008608      1.0\n",
              "1     27   1      10        6      31     17.3   1.362202  4.000798      0.0\n",
              "2     40   1      15       14      55      5.5   0.856075  2.168925      0.0\n",
              "3     41   1      15       14     120      2.9   2.658720  0.821280      0.0\n",
              "4     24   2       2        0      28     17.3   1.787436  3.056564      1.0\n",
              "..   ...  ..     ...      ...     ...      ...        ...       ...      ...\n",
              "695   36   2       6       15      27      4.6   0.262062  0.979938      1.0\n",
              "696   29   2       6        4      21     11.5   0.369495  2.045505      0.0\n",
              "697   33   1      15        3      32      7.6   0.491264  1.940736      0.0\n",
              "698   45   1      19       22      77      8.4   2.302608  4.165392      0.0\n",
              "699   37   1      12       14      44     14.7   2.994684  3.473316      0.0\n",
              "\n",
              "[700 rows x 9 columns]"
            ],
            "text/html": [
              "\n",
              "  <div id=\"df-01e5832d-46ea-4feb-878d-33dfbf43af3f\">\n",
              "    <div class=\"colab-df-container\">\n",
              "      <div>\n",
              "<style scoped>\n",
              "    .dataframe tbody tr th:only-of-type {\n",
              "        vertical-align: middle;\n",
              "    }\n",
              "\n",
              "    .dataframe tbody tr th {\n",
              "        vertical-align: top;\n",
              "    }\n",
              "\n",
              "    .dataframe thead th {\n",
              "        text-align: right;\n",
              "    }\n",
              "</style>\n",
              "<table border=\"1\" class=\"dataframe\">\n",
              "  <thead>\n",
              "    <tr style=\"text-align: right;\">\n",
              "      <th></th>\n",
              "      <th>age</th>\n",
              "      <th>ed</th>\n",
              "      <th>employ</th>\n",
              "      <th>address</th>\n",
              "      <th>income</th>\n",
              "      <th>debtinc</th>\n",
              "      <th>creddebt</th>\n",
              "      <th>othdebt</th>\n",
              "      <th>default</th>\n",
              "    </tr>\n",
              "  </thead>\n",
              "  <tbody>\n",
              "    <tr>\n",
              "      <th>0</th>\n",
              "      <td>41</td>\n",
              "      <td>3</td>\n",
              "      <td>17</td>\n",
              "      <td>12</td>\n",
              "      <td>176</td>\n",
              "      <td>9.3</td>\n",
              "      <td>11.359392</td>\n",
              "      <td>5.008608</td>\n",
              "      <td>1.0</td>\n",
              "    </tr>\n",
              "    <tr>\n",
              "      <th>1</th>\n",
              "      <td>27</td>\n",
              "      <td>1</td>\n",
              "      <td>10</td>\n",
              "      <td>6</td>\n",
              "      <td>31</td>\n",
              "      <td>17.3</td>\n",
              "      <td>1.362202</td>\n",
              "      <td>4.000798</td>\n",
              "      <td>0.0</td>\n",
              "    </tr>\n",
              "    <tr>\n",
              "      <th>2</th>\n",
              "      <td>40</td>\n",
              "      <td>1</td>\n",
              "      <td>15</td>\n",
              "      <td>14</td>\n",
              "      <td>55</td>\n",
              "      <td>5.5</td>\n",
              "      <td>0.856075</td>\n",
              "      <td>2.168925</td>\n",
              "      <td>0.0</td>\n",
              "    </tr>\n",
              "    <tr>\n",
              "      <th>3</th>\n",
              "      <td>41</td>\n",
              "      <td>1</td>\n",
              "      <td>15</td>\n",
              "      <td>14</td>\n",
              "      <td>120</td>\n",
              "      <td>2.9</td>\n",
              "      <td>2.658720</td>\n",
              "      <td>0.821280</td>\n",
              "      <td>0.0</td>\n",
              "    </tr>\n",
              "    <tr>\n",
              "      <th>4</th>\n",
              "      <td>24</td>\n",
              "      <td>2</td>\n",
              "      <td>2</td>\n",
              "      <td>0</td>\n",
              "      <td>28</td>\n",
              "      <td>17.3</td>\n",
              "      <td>1.787436</td>\n",
              "      <td>3.056564</td>\n",
              "      <td>1.0</td>\n",
              "    </tr>\n",
              "    <tr>\n",
              "      <th>...</th>\n",
              "      <td>...</td>\n",
              "      <td>...</td>\n",
              "      <td>...</td>\n",
              "      <td>...</td>\n",
              "      <td>...</td>\n",
              "      <td>...</td>\n",
              "      <td>...</td>\n",
              "      <td>...</td>\n",
              "      <td>...</td>\n",
              "    </tr>\n",
              "    <tr>\n",
              "      <th>695</th>\n",
              "      <td>36</td>\n",
              "      <td>2</td>\n",
              "      <td>6</td>\n",
              "      <td>15</td>\n",
              "      <td>27</td>\n",
              "      <td>4.6</td>\n",
              "      <td>0.262062</td>\n",
              "      <td>0.979938</td>\n",
              "      <td>1.0</td>\n",
              "    </tr>\n",
              "    <tr>\n",
              "      <th>696</th>\n",
              "      <td>29</td>\n",
              "      <td>2</td>\n",
              "      <td>6</td>\n",
              "      <td>4</td>\n",
              "      <td>21</td>\n",
              "      <td>11.5</td>\n",
              "      <td>0.369495</td>\n",
              "      <td>2.045505</td>\n",
              "      <td>0.0</td>\n",
              "    </tr>\n",
              "    <tr>\n",
              "      <th>697</th>\n",
              "      <td>33</td>\n",
              "      <td>1</td>\n",
              "      <td>15</td>\n",
              "      <td>3</td>\n",
              "      <td>32</td>\n",
              "      <td>7.6</td>\n",
              "      <td>0.491264</td>\n",
              "      <td>1.940736</td>\n",
              "      <td>0.0</td>\n",
              "    </tr>\n",
              "    <tr>\n",
              "      <th>698</th>\n",
              "      <td>45</td>\n",
              "      <td>1</td>\n",
              "      <td>19</td>\n",
              "      <td>22</td>\n",
              "      <td>77</td>\n",
              "      <td>8.4</td>\n",
              "      <td>2.302608</td>\n",
              "      <td>4.165392</td>\n",
              "      <td>0.0</td>\n",
              "    </tr>\n",
              "    <tr>\n",
              "      <th>699</th>\n",
              "      <td>37</td>\n",
              "      <td>1</td>\n",
              "      <td>12</td>\n",
              "      <td>14</td>\n",
              "      <td>44</td>\n",
              "      <td>14.7</td>\n",
              "      <td>2.994684</td>\n",
              "      <td>3.473316</td>\n",
              "      <td>0.0</td>\n",
              "    </tr>\n",
              "  </tbody>\n",
              "</table>\n",
              "<p>700 rows × 9 columns</p>\n",
              "</div>\n",
              "      <button class=\"colab-df-convert\" onclick=\"convertToInteractive('df-01e5832d-46ea-4feb-878d-33dfbf43af3f')\"\n",
              "              title=\"Convert this dataframe to an interactive table.\"\n",
              "              style=\"display:none;\">\n",
              "        \n",
              "  <svg xmlns=\"http://www.w3.org/2000/svg\" height=\"24px\"viewBox=\"0 0 24 24\"\n",
              "       width=\"24px\">\n",
              "    <path d=\"M0 0h24v24H0V0z\" fill=\"none\"/>\n",
              "    <path d=\"M18.56 5.44l.94 2.06.94-2.06 2.06-.94-2.06-.94-.94-2.06-.94 2.06-2.06.94zm-11 1L8.5 8.5l.94-2.06 2.06-.94-2.06-.94L8.5 2.5l-.94 2.06-2.06.94zm10 10l.94 2.06.94-2.06 2.06-.94-2.06-.94-.94-2.06-.94 2.06-2.06.94z\"/><path d=\"M17.41 7.96l-1.37-1.37c-.4-.4-.92-.59-1.43-.59-.52 0-1.04.2-1.43.59L10.3 9.45l-7.72 7.72c-.78.78-.78 2.05 0 2.83L4 21.41c.39.39.9.59 1.41.59.51 0 1.02-.2 1.41-.59l7.78-7.78 2.81-2.81c.8-.78.8-2.07 0-2.86zM5.41 20L4 18.59l7.72-7.72 1.47 1.35L5.41 20z\"/>\n",
              "  </svg>\n",
              "      </button>\n",
              "      \n",
              "  <style>\n",
              "    .colab-df-container {\n",
              "      display:flex;\n",
              "      flex-wrap:wrap;\n",
              "      gap: 12px;\n",
              "    }\n",
              "\n",
              "    .colab-df-convert {\n",
              "      background-color: #E8F0FE;\n",
              "      border: none;\n",
              "      border-radius: 50%;\n",
              "      cursor: pointer;\n",
              "      display: none;\n",
              "      fill: #1967D2;\n",
              "      height: 32px;\n",
              "      padding: 0 0 0 0;\n",
              "      width: 32px;\n",
              "    }\n",
              "\n",
              "    .colab-df-convert:hover {\n",
              "      background-color: #E2EBFA;\n",
              "      box-shadow: 0px 1px 2px rgba(60, 64, 67, 0.3), 0px 1px 3px 1px rgba(60, 64, 67, 0.15);\n",
              "      fill: #174EA6;\n",
              "    }\n",
              "\n",
              "    [theme=dark] .colab-df-convert {\n",
              "      background-color: #3B4455;\n",
              "      fill: #D2E3FC;\n",
              "    }\n",
              "\n",
              "    [theme=dark] .colab-df-convert:hover {\n",
              "      background-color: #434B5C;\n",
              "      box-shadow: 0px 1px 3px 1px rgba(0, 0, 0, 0.15);\n",
              "      filter: drop-shadow(0px 1px 2px rgba(0, 0, 0, 0.3));\n",
              "      fill: #FFFFFF;\n",
              "    }\n",
              "  </style>\n",
              "\n",
              "      <script>\n",
              "        const buttonEl =\n",
              "          document.querySelector('#df-01e5832d-46ea-4feb-878d-33dfbf43af3f button.colab-df-convert');\n",
              "        buttonEl.style.display =\n",
              "          google.colab.kernel.accessAllowed ? 'block' : 'none';\n",
              "\n",
              "        async function convertToInteractive(key) {\n",
              "          const element = document.querySelector('#df-01e5832d-46ea-4feb-878d-33dfbf43af3f');\n",
              "          const dataTable =\n",
              "            await google.colab.kernel.invokeFunction('convertToInteractive',\n",
              "                                                     [key], {});\n",
              "          if (!dataTable) return;\n",
              "\n",
              "          const docLinkHtml = 'Like what you see? Visit the ' +\n",
              "            '<a target=\"_blank\" href=https://colab.research.google.com/notebooks/data_table.ipynb>data table notebook</a>'\n",
              "            + ' to learn more about interactive tables.';\n",
              "          element.innerHTML = '';\n",
              "          dataTable['output_type'] = 'display_data';\n",
              "          await google.colab.output.renderOutput(dataTable, element);\n",
              "          const docLink = document.createElement('div');\n",
              "          docLink.innerHTML = docLinkHtml;\n",
              "          element.appendChild(docLink);\n",
              "        }\n",
              "      </script>\n",
              "    </div>\n",
              "  </div>\n",
              "  "
            ]
          },
          "metadata": {},
          "execution_count": 178
        }
      ]
    },
    {
      "cell_type": "code",
      "source": [
        "sns.countplot(df1['default'])\n",
        "print(df1.default.value_counts())"
      ],
      "metadata": {
        "colab": {
          "base_uri": "https://localhost:8080/",
          "height": 397
        },
        "id": "RVhzkI_QVYZK",
        "outputId": "ae794f97-e486-45d7-f342-fbbbc3ad788f"
      },
      "execution_count": 179,
      "outputs": [
        {
          "output_type": "stream",
          "name": "stdout",
          "text": [
            "0.0    517\n",
            "1.0    183\n",
            "Name: default, dtype: int64\n"
          ]
        },
        {
          "output_type": "stream",
          "name": "stderr",
          "text": [
            "/usr/local/lib/python3.8/dist-packages/seaborn/_decorators.py:36: FutureWarning: Pass the following variable as a keyword arg: x. From version 0.12, the only valid positional argument will be `data`, and passing other arguments without an explicit keyword will result in an error or misinterpretation.\n",
            "  warnings.warn(\n"
          ]
        },
        {
          "output_type": "display_data",
          "data": {
            "text/plain": [
              "<Figure size 432x288 with 1 Axes>"
            ],
            "image/png": "[encoded data removed]"
          },
          "metadata": {}
        }
      ]
    },
    {
      "cell_type": "code",
      "source": [
        "from sklearn.utils import resample\n",
        "\n",
        "df_majority = df1[(df1['default']==0)]\n",
        "df_minority = df1[(df1['default']==1)]\n",
        "\n",
        "df_minority_upsampled = resample(df_minority,\n",
        "\n",
        "replace=True, \n",
        "n_samples= 517, \n",
        "random_state=0) \n",
        "\n",
        "df_upsampled = pd.concat([df_minority_upsampled, df_majority])\n",
        "sns.countplot(df_upsampled['default'])\n",
        "print(df_upsampled.default.value_counts())"
      ],
      "metadata": {
        "colab": {
          "base_uri": "https://localhost:8080/",
          "height": 397
        },
        "id": "_j4V-RXgVkC_",
        "outputId": "1204f275-ab28-4473-9cae-1e844cc07db8"
      },
      "execution_count": 180,
      "outputs": [
        {
          "output_type": "stream",
          "name": "stderr",
          "text": [
            "/usr/local/lib/python3.8/dist-packages/seaborn/_decorators.py:36: FutureWarning: Pass the following variable as a keyword arg: x. From version 0.12, the only valid positional argument will be `data`, and passing other arguments without an explicit keyword will result in an error or misinterpretation.\n",
            "  warnings.warn(\n"
          ]
        },
        {
          "output_type": "stream",
          "name": "stdout",
          "text": [
            "1.0    517\n",
            "0.0    517\n",
            "Name: default, dtype: int64\n"
          ]
        },
        {
          "output_type": "display_data",
          "data": {
            "text/plain": [
              "<Figure size 432x288 with 1 Axes>"
            ],
            "image/png": "[encoded data removed]"
          },
          "metadata": {}
        }
      ]
    },
    {
      "cell_type": "markdown",
      "source": [
        "Check the Outlier using Boxplot"
      ],
      "metadata": {
        "id": "NPEvogyKWTM_"
      }
    },
    {
      "cell_type": "code",
      "source": [
        "sns.boxplot(x=df_upsampled[\"age\"])"
      ],
      "metadata": {
        "colab": {
          "base_uri": "https://localhost:8080/",
          "height": 303
        },
        "id": "La3JnrTPWQFX",
        "outputId": "0eb72df5-1190-40ea-d18a-582e90f82af9"
      },
      "execution_count": 181,
      "outputs": [
        {
          "output_type": "execute_result",
          "data": {
            "text/plain": [
              "<matplotlib.axes._subplots.AxesSubplot at 0x7f724d650a30>"
            ]
          },
          "metadata": {},
          "execution_count": 181
        },
        {
          "output_type": "display_data",
          "data": {
            "text/plain": [
              "<Figure size 432x288 with 1 Axes>"
            ],
            "image/png": "[encoded data removed]"
          },
          "metadata": {}
        }
      ]
    },
    {
      "cell_type": "code",
      "source": [
        "sns.boxplot(x=df_upsampled[\"employ\"])"
      ],
      "metadata": {
        "colab": {
          "base_uri": "https://localhost:8080/",
          "height": 303
        },
        "id": "CNVQdzKJWjwn",
        "outputId": "80f1a8d3-5546-43d5-9687-3d29dfe327bf"
      },
      "execution_count": 182,
      "outputs": [
        {
          "output_type": "execute_result",
          "data": {
            "text/plain": [
              "<matplotlib.axes._subplots.AxesSubplot at 0x7f724d58d1c0>"
            ]
          },
          "metadata": {},
          "execution_count": 182
        },
        {
          "output_type": "display_data",
          "data": {
            "text/plain": [
              "<Figure size 432x288 with 1 Axes>"
            ],
            "image/png": "[encoded data removed]"
          },
          "metadata": {}
        }
      ]
    },
    {
      "cell_type": "code",
      "source": [
        "sns.boxplot(x=df_upsampled[\"address\"])"
      ],
      "metadata": {
        "colab": {
          "base_uri": "https://localhost:8080/",
          "height": 303
        },
        "id": "0YwZEed0Wqh-",
        "outputId": "d2abb96c-3c7d-4e48-fae0-b7474fd02048"
      },
      "execution_count": 183,
      "outputs": [
        {
          "output_type": "execute_result",
          "data": {
            "text/plain": [
              "<matplotlib.axes._subplots.AxesSubplot at 0x7f724d57c7c0>"
            ]
          },
          "metadata": {},
          "execution_count": 183
        },
        {
          "output_type": "display_data",
          "data": {
            "text/plain": [
              "<Figure size 432x288 with 1 Axes>"
            ],
            "image/png": "[encoded data removed]"
          },
          "metadata": {}
        }
      ]
    },
    {
      "cell_type": "code",
      "source": [
        "sns.boxplot(x=df_upsampled[\"income\"])"
      ],
      "metadata": {
        "colab": {
          "base_uri": "https://localhost:8080/",
          "height": 303
        },
        "id": "fGryoLdfWsxf",
        "outputId": "bc848b60-e77c-4c33-9a9b-ed9d4c529365"
      },
      "execution_count": 184,
      "outputs": [
        {
          "output_type": "execute_result",
          "data": {
            "text/plain": [
              "<matplotlib.axes._subplots.AxesSubplot at 0x7f724de73c40>"
            ]
          },
          "metadata": {},
          "execution_count": 184
        },
        {
          "output_type": "display_data",
          "data": {
            "text/plain": [
              "<Figure size 432x288 with 1 Axes>"
            ],
            "image/png": "[encoded data removed]"
          },
          "metadata": {}
        }
      ]
    },
    {
      "cell_type": "code",
      "source": [
        "sns.boxplot(x=df_upsampled[\"debtinc\"])"
      ],
      "metadata": {
        "colab": {
          "base_uri": "https://localhost:8080/",
          "height": 303
        },
        "id": "Tljcm7OFWwCH",
        "outputId": "633975f0-1522-4690-ced4-650275bf05bd"
      },
      "execution_count": 185,
      "outputs": [
        {
          "output_type": "execute_result",
          "data": {
            "text/plain": [
              "<matplotlib.axes._subplots.AxesSubplot at 0x7f724d57c2b0>"
            ]
          },
          "metadata": {},
          "execution_count": 185
        },
        {
          "output_type": "display_data",
          "data": {
            "text/plain": [
              "<Figure size 432x288 with 1 Axes>"
            ],
            "image/png": "[encoded data removed]"
          },
          "metadata": {}
        }
      ]
    },
    {
      "cell_type": "markdown",
      "source": [
        "Remove the Outlier using Z-Score"
      ],
      "metadata": {
        "id": "Pj4lNz_IW09G"
      }
    },
    {
      "cell_type": "code",
      "source": [
        "import scipy.stats as stats\n",
        "z = np.abs(stats.zscore(df_upsampled))\n",
        "data_clean = df_upsampled[(z<3).all(axis = 1)]\n",
        "data_clean.shape"
      ],
      "metadata": {
        "colab": {
          "base_uri": "https://localhost:8080/"
        },
        "id": "8HQHjefjWyv5",
        "outputId": "f3112061-70aa-428f-c49e-760723ee29dd"
      },
      "execution_count": 186,
      "outputs": [
        {
          "output_type": "execute_result",
          "data": {
            "text/plain": [
              "(965, 9)"
            ]
          },
          "metadata": {},
          "execution_count": 186
        }
      ]
    },
    {
      "cell_type": "code",
      "source": [
        "sns.heatmap(data_clean.corr())"
      ],
      "metadata": {
        "colab": {
          "base_uri": "https://localhost:8080/",
          "height": 329
        },
        "id": "2yM9KbBuW3yR",
        "outputId": "1ae41c2c-4e4f-4f4f-cf27-e850a3c31a08"
      },
      "execution_count": 187,
      "outputs": [
        {
          "output_type": "execute_result",
          "data": {
            "text/plain": [
              "<matplotlib.axes._subplots.AxesSubplot at 0x7f724d479460>"
            ]
          },
          "metadata": {},
          "execution_count": 187
        },
        {
          "output_type": "display_data",
          "data": {
            "text/plain": [
              "<Figure size 432x288 with 2 Axes>"
            ],
            "image/png": "[encoded data removed]"
          },
          "metadata": {}
        }
      ]
    },
    {
      "cell_type": "markdown",
      "source": [
        "Correlation between Class and other attributes"
      ],
      "metadata": {
        "id": "MaaElqIdW9AO"
      }
    },
    {
      "cell_type": "code",
      "source": [
        "corr = data_clean[data_clean.columns[1:]].corr()['default'][:-1]\n",
        "plt.plot(corr)\n",
        "plt.xticks(rotation=90)\n",
        "plt.show()"
      ],
      "metadata": {
        "colab": {
          "base_uri": "https://localhost:8080/",
          "height": 307
        },
        "id": "-CEKFRinW96n",
        "outputId": "f872c9b0-2625-4d72-f1ee-ba71d6977af7"
      },
      "execution_count": 188,
      "outputs": [
        {
          "output_type": "display_data",
          "data": {
            "text/plain": [
              "<Figure size 432x288 with 1 Axes>"
            ],
            "image/png": "[encoded data removed]"
          },
          "metadata": {}
        }
      ]
    },
    {
      "cell_type": "code",
      "source": [
        "#Dropping duplicates\n",
        "\n",
        "data_clean2 = data_clean.drop_duplicates()\n",
        "data_clean2.shape"
      ],
      "metadata": {
        "colab": {
          "base_uri": "https://localhost:8080/"
        },
        "id": "UK82Ti3tXA8H",
        "outputId": "49daf6e5-259f-4d26-e649-0415918b4076"
      },
      "execution_count": 189,
      "outputs": [
        {
          "output_type": "execute_result",
          "data": {
            "text/plain": [
              "(662, 9)"
            ]
          },
          "metadata": {},
          "execution_count": 189
        }
      ]
    },
    {
      "cell_type": "code",
      "source": [
        "#EDA\n",
        "\n",
        "sns.histplot(data=data_clean2, x=\"age\", hue=\"default\", multiple=\"stack\")"
      ],
      "metadata": {
        "colab": {
          "base_uri": "https://localhost:8080/",
          "height": 303
        },
        "id": "kKZk808iXFDO",
        "outputId": "e0e4093f-e982-432c-b42d-9d5890e974b1"
      },
      "execution_count": 190,
      "outputs": [
        {
          "output_type": "execute_result",
          "data": {
            "text/plain": [
              "<matplotlib.axes._subplots.AxesSubplot at 0x7f724d362340>"
            ]
          },
          "metadata": {},
          "execution_count": 190
        },
        {
          "output_type": "display_data",
          "data": {
            "text/plain": [
              "<Figure size 432x288 with 1 Axes>"
            ],
            "image/png": "[encoded data removed]"
          },
          "metadata": {}
        }
      ]
    },
    {
      "cell_type": "code",
      "source": [
        "sns.histplot(data=data_clean2, x=\"ed\", hue=\"default\", multiple=\"stack\")"
      ],
      "metadata": {
        "colab": {
          "base_uri": "https://localhost:8080/",
          "height": 303
        },
        "id": "dXIaZDc9XINv",
        "outputId": "07f3cde3-7c30-4ab6-ad5c-0e77c7243884"
      },
      "execution_count": 191,
      "outputs": [
        {
          "output_type": "execute_result",
          "data": {
            "text/plain": [
              "<matplotlib.axes._subplots.AxesSubplot at 0x7f724d4eb160>"
            ]
          },
          "metadata": {},
          "execution_count": 191
        },
        {
          "output_type": "display_data",
          "data": {
            "text/plain": [
              "<Figure size 432x288 with 1 Axes>"
            ],
            "image/png": "[encoded data removed]"
          },
          "metadata": {}
        }
      ]
    },
    {
      "cell_type": "code",
      "source": [
        "sns.histplot(data=data_clean2, x=\"employ\", hue=\"default\", multiple=\"stack\")"
      ],
      "metadata": {
        "colab": {
          "base_uri": "https://localhost:8080/",
          "height": 303
        },
        "id": "vyuE-8dvXKq5",
        "outputId": "e6b742f8-06a6-4b7e-e145-67e02a29015f"
      },
      "execution_count": 192,
      "outputs": [
        {
          "output_type": "execute_result",
          "data": {
            "text/plain": [
              "<matplotlib.axes._subplots.AxesSubplot at 0x7f724d2f3a60>"
            ]
          },
          "metadata": {},
          "execution_count": 192
        },
        {
          "output_type": "display_data",
          "data": {
            "text/plain": [
              "<Figure size 432x288 with 1 Axes>"
            ],
            "image/png": "[encoded data removed]"
          },
          "metadata": {}
        }
      ]
    },
    {
      "cell_type": "code",
      "source": [
        "sns.histplot(data=data_clean2, x=\"address\", hue=\"default\", multiple=\"stack\")"
      ],
      "metadata": {
        "colab": {
          "base_uri": "https://localhost:8080/",
          "height": 303
        },
        "id": "oArIlT5zXNOf",
        "outputId": "0cd441f8-f6e0-40f0-cec6-34901aa36faa"
      },
      "execution_count": 193,
      "outputs": [
        {
          "output_type": "execute_result",
          "data": {
            "text/plain": [
              "<matplotlib.axes._subplots.AxesSubplot at 0x7f724d198580>"
            ]
          },
          "metadata": {},
          "execution_count": 193
        },
        {
          "output_type": "display_data",
          "data": {
            "text/plain": [
              "<Figure size 432x288 with 1 Axes>"
            ],
            "image/png": "[encoded data removed]"
          },
          "metadata": {}
        }
      ]
    },
    {
      "cell_type": "code",
      "source": [
        "sns.histplot(data=data_clean2, x=\"income\", hue=\"default\", multiple=\"stack\")"
      ],
      "metadata": {
        "colab": {
          "base_uri": "https://localhost:8080/",
          "height": 303
        },
        "id": "VlwiwxOfXP3e",
        "outputId": "52936b65-7a6f-4499-823b-6039b72c8611"
      },
      "execution_count": 194,
      "outputs": [
        {
          "output_type": "execute_result",
          "data": {
            "text/plain": [
              "<matplotlib.axes._subplots.AxesSubplot at 0x7f724d0ec6d0>"
            ]
          },
          "metadata": {},
          "execution_count": 194
        },
        {
          "output_type": "display_data",
          "data": {
            "text/plain": [
              "<Figure size 432x288 with 1 Axes>"
            ],
            "image/png": "[encoded data removed]"
          },
          "metadata": {}
        }
      ]
    },
    {
      "cell_type": "code",
      "source": [
        "sns.histplot(data=data_clean2, x=\"debtinc\", hue=\"default\", multiple=\"stack\")"
      ],
      "metadata": {
        "colab": {
          "base_uri": "https://localhost:8080/",
          "height": 303
        },
        "id": "ZV7BTgukXUiX",
        "outputId": "1d20b044-2918-48bb-d557-087943419016"
      },
      "execution_count": 195,
      "outputs": [
        {
          "output_type": "execute_result",
          "data": {
            "text/plain": [
              "<matplotlib.axes._subplots.AxesSubplot at 0x7f724d362970>"
            ]
          },
          "metadata": {},
          "execution_count": 195
        },
        {
          "output_type": "display_data",
          "data": {
            "text/plain": [
              "<Figure size 432x288 with 1 Axes>"
            ],
            "image/png": "[encoded data removed]"
          },
          "metadata": {}
        }
      ]
    },
    {
      "cell_type": "code",
      "source": [
        "sns.histplot(data=data_clean2, x=\"creddebt\", hue=\"default\", multiple=\"stack\")"
      ],
      "metadata": {
        "colab": {
          "base_uri": "https://localhost:8080/",
          "height": 303
        },
        "id": "ySqumpHOXVwH",
        "outputId": "898679db-5df4-483f-a0ac-36f0fc5a9ad6"
      },
      "execution_count": 196,
      "outputs": [
        {
          "output_type": "execute_result",
          "data": {
            "text/plain": [
              "<matplotlib.axes._subplots.AxesSubplot at 0x7f724d67f850>"
            ]
          },
          "metadata": {},
          "execution_count": 196
        },
        {
          "output_type": "display_data",
          "data": {
            "text/plain": [
              "<Figure size 432x288 with 1 Axes>"
            ],
            "image/png": "[encoded data removed]"
          },
          "metadata": {}
        }
      ]
    },
    {
      "cell_type": "markdown",
      "source": [
        "TRAIN TEST SPLIT"
      ],
      "metadata": {
        "id": "t95G1DOoXYmY"
      }
    },
    {
      "cell_type": "code",
      "source": [
        "X = data_clean2.drop('default', axis=1)\n",
        "y = data_clean2['default']\n",
        "\n",
        "from sklearn.model_selection import train_test_split\n",
        "from sklearn.metrics import accuracy_score\n",
        "X_train, X_test, y_train, y_test = train_test_split(X,y, test_size=0.2,random_state=0)"
      ],
      "metadata": {
        "id": "3TFV6LfGXbaO"
      },
      "execution_count": 197,
      "outputs": []
    },
    {
      "cell_type": "markdown",
      "source": [
        "**RANDOM** **FOREST**\n"
      ],
      "metadata": {
        "id": "RA1UV8igXvC-"
      }
    },
    {
      "cell_type": "code",
      "source": [
        "from sklearn.ensemble import RandomForestClassifier\n",
        "rfc = RandomForestClassifier(random_state=0)\n",
        "rfc.fit(X_train, y_train)\n",
        "\n",
        "y_pred = rfc.predict(X_test)\n",
        "print(\"Accuracy Score :\", round(accuracy_score(y_test, y_pred)*100 ,2), \"%\")\n",
        "\n",
        "from sklearn.metrics import accuracy_score, f1_score, precision_score, recall_score\n",
        "print('F-1 Score : ',(f1_score(y_test, y_pred)))\n",
        "print('Precision Score : ',(precision_score(y_test, y_pred)))\n",
        "print('Recall Score : ',(recall_score(y_test, y_pred)))"
      ],
      "metadata": {
        "colab": {
          "base_uri": "https://localhost:8080/"
        },
        "id": "qE0ED0XoXgA2",
        "outputId": "44d77523-ef9c-4821-d33b-5da96ee37d91"
      },
      "execution_count": 198,
      "outputs": [
        {
          "output_type": "stream",
          "name": "stdout",
          "text": [
            "Accuracy Score : 80.45 %\n",
            "F-1 Score :  0.5357142857142857\n",
            "Precision Score :  0.6818181818181818\n",
            "Recall Score :  0.4411764705882353\n"
          ]
        }
      ]
    },
    {
      "cell_type": "markdown",
      "source": [
        "**LOGISTIC** **REGRESSION**\n"
      ],
      "metadata": {
        "id": "XNSyAdQfYIvH"
      }
    },
    {
      "cell_type": "code",
      "source": [
        "from sklearn.linear_model import LogisticRegression\n",
        "lr=LogisticRegression(random_state=0)\n",
        "lr.fit(X_train, y_train)"
      ],
      "metadata": {
        "colab": {
          "base_uri": "https://localhost:8080/"
        },
        "id": "HEA2X0K5Xji2",
        "outputId": "d756669c-deb4-4122-85b8-dc89757344ec"
      },
      "execution_count": 199,
      "outputs": [
        {
          "output_type": "execute_result",
          "data": {
            "text/plain": [
              "LogisticRegression(random_state=0)"
            ]
          },
          "metadata": {},
          "execution_count": 199
        }
      ]
    },
    {
      "cell_type": "code",
      "source": [
        "y_pred = lr.predict(X_test)\n",
        "print(\"Accuracy Score :\", round(accuracy_score(y_test, y_pred)*100 ,2), \"%\")"
      ],
      "metadata": {
        "colab": {
          "base_uri": "https://localhost:8080/"
        },
        "id": "jimmI46AYaw-",
        "outputId": "68f2cec5-3d7b-44ea-db2c-dfdda5a1cabe"
      },
      "execution_count": 200,
      "outputs": [
        {
          "output_type": "stream",
          "name": "stdout",
          "text": [
            "Accuracy Score : 79.7 %\n"
          ]
        }
      ]
    },
    {
      "cell_type": "code",
      "source": [
        "from sklearn.metrics import accuracy_score, f1_score, precision_score, recall_score\n",
        "print('F-1 Score : ',(f1_score(y_test, y_pred)))\n",
        "print('Precision Score : ',(precision_score(y_test, y_pred)))\n",
        "print('Recall Score : ',(recall_score(y_test, y_pred)))"
      ],
      "metadata": {
        "colab": {
          "base_uri": "https://localhost:8080/"
        },
        "id": "lZQfMXRUYeSY",
        "outputId": "cb1829fe-93fd-45e8-ed59-2d8f0d0a9804"
      },
      "execution_count": 201,
      "outputs": [
        {
          "output_type": "stream",
          "name": "stdout",
          "text": [
            "F-1 Score :  0.5573770491803278\n",
            "Precision Score :  0.6296296296296297\n",
            "Recall Score :  0.5\n"
          ]
        }
      ]
    },
    {
      "cell_type": "markdown",
      "source": [
        "**SVM**"
      ],
      "metadata": {
        "id": "F1zGY1oBfsKl"
      }
    },
    {
      "cell_type": "code",
      "source": [
        "from sklearn import svm\n",
        "\n",
        "clf = svm.SVC(kernel='linear')\n",
        "clf.fit(X_train, y_train)\n",
        "y_pred = clf.predict(X_test)"
      ],
      "metadata": {
        "id": "faN3IqOWfuE8"
      },
      "execution_count": 202,
      "outputs": []
    },
    {
      "cell_type": "code",
      "source": [
        "from sklearn import metrics\n",
        "print(\"Accuracy:\",metrics.accuracy_score(y_test, y_pred))"
      ],
      "metadata": {
        "colab": {
          "base_uri": "https://localhost:8080/"
        },
        "id": "cf36J8n_f8iV",
        "outputId": "85de7735-87bf-4f5b-93ca-cc494c2ff815"
      },
      "execution_count": 203,
      "outputs": [
        {
          "output_type": "stream",
          "name": "stdout",
          "text": [
            "Accuracy: 0.7894736842105263\n"
          ]
        }
      ]
    },
    {
      "cell_type": "code",
      "source": [
        "from sklearn.metrics import accuracy_score, f1_score, precision_score, recall_score\n",
        "print('F-1 Score : ',(f1_score(y_test, y_pred)))\n",
        "print('Precision Score : ',(precision_score(y_test, y_pred)))\n",
        "print('Recall Score : ',(recall_score(y_test, y_pred)))"
      ],
      "metadata": {
        "colab": {
          "base_uri": "https://localhost:8080/"
        },
        "id": "hBiSQi0Hgj9d",
        "outputId": "a12a3753-517a-4aa6-f45d-0d9e21b31827"
      },
      "execution_count": 204,
      "outputs": [
        {
          "output_type": "stream",
          "name": "stdout",
          "text": [
            "F-1 Score :  0.5\n",
            "Precision Score :  0.6363636363636364\n",
            "Recall Score :  0.4117647058823529\n"
          ]
        }
      ]
    },
    {
      "cell_type": "markdown",
      "source": [
        "**RIDGE** **Classifier**\n"
      ],
      "metadata": {
        "id": "tEml9bCoYhmH"
      }
    },
    {
      "cell_type": "code",
      "source": [
        "from sklearn.linear_model import RidgeClassifier\n",
        "lir=RidgeClassifier(random_state=0)\n",
        "lir.fit(X_train, y_train)"
      ],
      "metadata": {
        "colab": {
          "base_uri": "https://localhost:8080/"
        },
        "id": "GLUc6SHPYmU2",
        "outputId": "7ad6c971-02e7-4cbc-cee1-ee84f12ac483"
      },
      "execution_count": 205,
      "outputs": [
        {
          "output_type": "execute_result",
          "data": {
            "text/plain": [
              "RidgeClassifier(random_state=0)"
            ]
          },
          "metadata": {},
          "execution_count": 205
        }
      ]
    },
    {
      "cell_type": "code",
      "source": [
        "y_pred = lir.predict(X_test)\n",
        "print(\"Accuracy Score :\", round(accuracy_score(y_test, y_pred)*100 ,2), \"%\")"
      ],
      "metadata": {
        "colab": {
          "base_uri": "https://localhost:8080/"
        },
        "id": "fiMIN7zUY1ex",
        "outputId": "c1753c5a-8848-4f6d-ca41-74d9f3bdc0e9"
      },
      "execution_count": 206,
      "outputs": [
        {
          "output_type": "stream",
          "name": "stdout",
          "text": [
            "Accuracy Score : 79.7 %\n"
          ]
        }
      ]
    },
    {
      "cell_type": "code",
      "source": [
        "from sklearn.metrics import accuracy_score, f1_score, precision_score, recall_score\n",
        "print('F-1 Score : ',(f1_score(y_test, y_pred)))\n",
        "print('Precision Score : ',(precision_score(y_test, y_pred)))\n",
        "print('Recall Score : ',(recall_score(y_test, y_pred)))"
      ],
      "metadata": {
        "colab": {
          "base_uri": "https://localhost:8080/"
        },
        "id": "6zp2-6cQZcG3",
        "outputId": "e68bff2a-1d55-4e5d-ec64-b2bf156d56f5"
      },
      "execution_count": 207,
      "outputs": [
        {
          "output_type": "stream",
          "name": "stdout",
          "text": [
            "F-1 Score :  0.509090909090909\n",
            "Precision Score :  0.6666666666666666\n",
            "Recall Score :  0.4117647058823529\n"
          ]
        }
      ]
    },
    {
      "cell_type": "markdown",
      "source": [
        "**Decision** **Tree**"
      ],
      "metadata": {
        "id": "Y3aLqWs8hNsN"
      }
    },
    {
      "cell_type": "code",
      "source": [
        "from sklearn.tree import DecisionTreeClassifier\n",
        "\n",
        "dt=DecisionTreeClassifier(random_state=0)\n",
        "dt.fit(X_train, y_train)\n",
        "\n",
        "y_pred = dt.predict(X_test)\n",
        "print(\"Accuracy Score :\", round(accuracy_score(y_test, y_pred)*100 ,2), \"%\")\n",
        "\n",
        "from sklearn.metrics import accuracy_score, f1_score, precision_score, recall_score\n",
        "print('F-1 Score : ',(f1_score(y_test, y_pred)))\n",
        "print('Precision Score : ',(precision_score(y_test, y_pred)))\n",
        "print('Recall Score : ',(recall_score(y_test, y_pred)))"
      ],
      "metadata": {
        "colab": {
          "base_uri": "https://localhost:8080/"
        },
        "id": "o6v3nIgmhQ1E",
        "outputId": "89b9c23e-0bd7-434b-ac63-3094decb9823"
      },
      "execution_count": 208,
      "outputs": [
        {
          "output_type": "stream",
          "name": "stdout",
          "text": [
            "Accuracy Score : 69.92 %\n",
            "F-1 Score :  0.4444444444444444\n",
            "Precision Score :  0.42105263157894735\n",
            "Recall Score :  0.47058823529411764\n"
          ]
        }
      ]
    },
    {
      "cell_type": "markdown",
      "source": [
        "**SGD** **Classifier**"
      ],
      "metadata": {
        "id": "-tr-qMGCh4mE"
      }
    },
    {
      "cell_type": "code",
      "source": [
        "from sklearn.linear_model import SGDClassifier\n",
        "\n",
        "sgc=SGDClassifier(random_state=0)\n",
        "sgc.fit(X_train, y_train)\n",
        "\n",
        "y_pred = sgc.predict(X_test)\n",
        "print(\"Accuracy Score :\", round(accuracy_score(y_test, y_pred)*100 ,2), \"%\")\n",
        "\n",
        "from sklearn.metrics import accuracy_score, f1_score, precision_score, recall_score\n",
        "print('F-1 Score : ',(f1_score(y_test, y_pred)))\n",
        "print('Precision Score : ',(precision_score(y_test, y_pred)))\n",
        "print('Recall Score : ',(recall_score(y_test, y_pred)))"
      ],
      "metadata": {
        "colab": {
          "base_uri": "https://localhost:8080/"
        },
        "id": "BrhW8UEGh9iT",
        "outputId": "06577917-32b0-4510-c4b3-943071626e55"
      },
      "execution_count": 209,
      "outputs": [
        {
          "output_type": "stream",
          "name": "stdout",
          "text": [
            "Accuracy Score : 80.45 %\n",
            "F-1 Score :  0.4347826086956522\n",
            "Precision Score :  0.8333333333333334\n",
            "Recall Score :  0.29411764705882354\n"
          ]
        }
      ]
    },
    {
      "cell_type": "markdown",
      "source": [
        "**Naive** **Bayes**"
      ],
      "metadata": {
        "id": "f7Pm4eZjZfFo"
      }
    },
    {
      "cell_type": "code",
      "source": [
        "from sklearn.naive_bayes import MultinomialNB"
      ],
      "metadata": {
        "id": "UlGjtfbjaZQO"
      },
      "execution_count": 210,
      "outputs": []
    },
    {
      "cell_type": "code",
      "source": [
        "mnb=MultinomialNB()\n",
        "mnb.fit(X_train, y_train)"
      ],
      "metadata": {
        "colab": {
          "base_uri": "https://localhost:8080/"
        },
        "id": "IgQLfR5Haj12",
        "outputId": "67946820-64e2-48b9-d1fa-ddb86708dfe7"
      },
      "execution_count": 211,
      "outputs": [
        {
          "output_type": "execute_result",
          "data": {
            "text/plain": [
              "MultinomialNB()"
            ]
          },
          "metadata": {},
          "execution_count": 211
        }
      ]
    },
    {
      "cell_type": "code",
      "source": [
        "y_pred = mnb.predict(X_test)\n",
        "print(\"Accuracy Score :\", round(accuracy_score(y_test, y_pred)*100 ,2), \"%\")"
      ],
      "metadata": {
        "colab": {
          "base_uri": "https://localhost:8080/"
        },
        "id": "2Q3y1LgQanbG",
        "outputId": "54a1ba98-63b4-42c6-f6a1-cf2726181f2b"
      },
      "execution_count": 212,
      "outputs": [
        {
          "output_type": "stream",
          "name": "stdout",
          "text": [
            "Accuracy Score : 77.44 %\n"
          ]
        }
      ]
    },
    {
      "cell_type": "code",
      "source": [
        "from sklearn.metrics import accuracy_score, f1_score, precision_score, recall_score\n",
        "print('F-1 Score : ',(f1_score(y_test, y_pred)))\n",
        "print('Precision Score : ',(precision_score(y_test, y_pred)))\n",
        "print('Recall Score : ',(recall_score(y_test, y_pred)))"
      ],
      "metadata": {
        "colab": {
          "base_uri": "https://localhost:8080/"
        },
        "id": "I-hBSHEJarpv",
        "outputId": "383965b8-17df-4a5a-bdbf-c55e54b76630"
      },
      "execution_count": 213,
      "outputs": [
        {
          "output_type": "stream",
          "name": "stdout",
          "text": [
            "F-1 Score :  0.6153846153846153\n",
            "Precision Score :  0.5454545454545454\n",
            "Recall Score :  0.7058823529411765\n"
          ]
        }
      ]
    },
    {
      "cell_type": "markdown",
      "source": [
        "**KFOLD**"
      ],
      "metadata": {
        "id": "FGpsMPjhe8zC"
      }
    },
    {
      "cell_type": "code",
      "source": [
        "from sklearn.model_selection import KFold\n",
        "from sklearn.model_selection import cross_val_score\n",
        "cv = KFold(n_splits=5, random_state=0, shuffle=True)\n",
        "\n",
        "from imblearn.under_sampling import RandomUnderSampler\n",
        "under = RandomUnderSampler(random_state=0)\n",
        "X_under, y_under = under.fit_resample(X_train, y_train)\n",
        "y_under.value_counts()"
      ],
      "metadata": {
        "colab": {
          "base_uri": "https://localhost:8080/"
        },
        "id": "7qOTn5JMe8K6",
        "outputId": "456c80a7-0787-4c03-e32a-20fdfd875249"
      },
      "execution_count": 214,
      "outputs": [
        {
          "output_type": "execute_result",
          "data": {
            "text/plain": [
              "0.0    129\n",
              "1.0    129\n",
              "Name: default, dtype: int64"
            ]
          },
          "metadata": {},
          "execution_count": 214
        }
      ]
    },
    {
      "cell_type": "markdown",
      "source": [
        "**RANDOM** **FOREST**"
      ],
      "metadata": {
        "id": "gXsReo65fVDd"
      }
    },
    {
      "cell_type": "code",
      "source": [
        "from sklearn.ensemble import RandomForestClassifier\n",
        "rfc = RandomForestClassifier(random_state=0)\n",
        "scores = cross_val_score(rfc,X_under,y_under,cv = cv,scoring = 'accuracy')\n",
        "print(\"Accuracy: \", round(np.mean(scores)*100 ,2), \"%\")"
      ],
      "metadata": {
        "colab": {
          "base_uri": "https://localhost:8080/"
        },
        "id": "BVHIwuBUfD0K",
        "outputId": "6a8bdc24-33c3-4ea2-e8c6-5722655676b5"
      },
      "execution_count": 215,
      "outputs": [
        {
          "output_type": "stream",
          "name": "stdout",
          "text": [
            "Accuracy:  75.57 %\n"
          ]
        }
      ]
    },
    {
      "cell_type": "code",
      "source": [
        "rfc.fit(X_under, y_under)\n",
        "y_pred = rfc.predict(X_test)\n",
        "from sklearn.metrics import accuracy_score, f1_score, precision_score, recall_score\n",
        "print('F-1 Score : ',(f1_score(y_test, y_pred)))\n",
        "print('Precision Score : ',(precision_score(y_test, y_pred)))\n",
        "print('Recall Score : ',(recall_score(y_test, y_pred)))"
      ],
      "metadata": {
        "colab": {
          "base_uri": "https://localhost:8080/"
        },
        "id": "jx07EtlgfYoN",
        "outputId": "44215608-74ba-46db-d947-5e8d94cfc070"
      },
      "execution_count": 216,
      "outputs": [
        {
          "output_type": "stream",
          "name": "stdout",
          "text": [
            "F-1 Score :  0.5909090909090909\n",
            "Precision Score :  0.48148148148148145\n",
            "Recall Score :  0.7647058823529411\n"
          ]
        }
      ]
    },
    {
      "cell_type": "markdown",
      "source": [
        "**Logistic** **Regression**"
      ],
      "metadata": {
        "id": "LMVCb9zDfc5k"
      }
    },
    {
      "cell_type": "code",
      "source": [
        "from sklearn.linear_model import LogisticRegression\n",
        "lr = LogisticRegression(random_state = 0)\n",
        "scores = cross_val_score(lr,X_under,y_under,cv = cv,scoring = 'accuracy')\n",
        "print(\"Accuracy: \", round(np.mean(scores)*100 ,2), \"%\")"
      ],
      "metadata": {
        "colab": {
          "base_uri": "https://localhost:8080/"
        },
        "id": "AiD-_vUXfd_2",
        "outputId": "bdd1cf08-6470-4489-b0df-ec180a7b56e2"
      },
      "execution_count": 217,
      "outputs": [
        {
          "output_type": "stream",
          "name": "stdout",
          "text": [
            "Accuracy:  76.36 %\n"
          ]
        }
      ]
    },
    {
      "cell_type": "code",
      "source": [
        "lr.fit(X_under, y_under)\n",
        "y_pred = lr.predict(X_test)\n",
        "from sklearn.metrics import accuracy_score, f1_score, precision_score, recall_score\n",
        "print('F-1 Score : ',(f1_score(y_test, y_pred)))\n",
        "print('Precision Score : ',(precision_score(y_test, y_pred)))\n",
        "print('Recall Score : ',(recall_score(y_test, y_pred)))"
      ],
      "metadata": {
        "colab": {
          "base_uri": "https://localhost:8080/"
        },
        "id": "6QqPUgjPfg4k",
        "outputId": "b818ce26-8537-412e-df43-6eb7d5039dc4"
      },
      "execution_count": 218,
      "outputs": [
        {
          "output_type": "stream",
          "name": "stdout",
          "text": [
            "F-1 Score :  0.5842696629213483\n",
            "Precision Score :  0.4727272727272727\n",
            "Recall Score :  0.7647058823529411\n"
          ]
        }
      ]
    },
    {
      "cell_type": "markdown",
      "source": [
        "**SVM**"
      ],
      "metadata": {
        "id": "8cUbCmZWmmQf"
      }
    },
    {
      "cell_type": "code",
      "source": [
        "from sklearn import svm\n",
        "\n",
        "clf = svm.SVC(random_state=0)\n",
        "scores = cross_val_score(clf,X_under,y_under,cv = cv,scoring = 'accuracy')\n",
        "print(\"Accuracy: \", round(np.mean(scores)*100 ,2), \"%\")\n",
        "\n",
        "clf.fit(X_under, y_under)\n",
        "y_pred = clf.predict(X_test)\n",
        "from sklearn.metrics import accuracy_score, f1_score, precision_score, recall_score\n",
        "print('F-1 Score : ',(f1_score(y_test, y_pred)))\n",
        "print('Precision Score : ',(precision_score(y_test, y_pred)))\n",
        "print('Recall Score : ',(recall_score(y_test, y_pred)))"
      ],
      "metadata": {
        "colab": {
          "base_uri": "https://localhost:8080/"
        },
        "id": "CAC-taOTmfh-",
        "outputId": "70cb8d8d-5843-48b9-a442-24ab6fbe512f"
      },
      "execution_count": 219,
      "outputs": [
        {
          "output_type": "stream",
          "name": "stdout",
          "text": [
            "Accuracy:  74.79 %\n",
            "F-1 Score :  0.6153846153846154\n",
            "Precision Score :  0.49122807017543857\n",
            "Recall Score :  0.8235294117647058\n"
          ]
        }
      ]
    },
    {
      "cell_type": "markdown",
      "source": [
        "**RIDGEClassifier**"
      ],
      "metadata": {
        "id": "O8sCsNrCrUhO"
      }
    },
    {
      "cell_type": "code",
      "source": [
        "from sklearn.linear_model import RidgeClassifier\n",
        "rc=RidgeClassifier(random_state=0)\n",
        "scores = cross_val_score(rc,X_under,y_under,cv = cv,scoring = 'accuracy')\n",
        "print(\"Accuracy: \", round(np.mean(scores)*100 ,2), \"%\")\n",
        "rc.fit(X_train, y_train)\n",
        "\n",
        "y_pred = clf.predict(X_test)\n",
        "from sklearn.metrics import accuracy_score, f1_score, precision_score, recall_score\n",
        "print('F-1 Score : ',(f1_score(y_test, y_pred)))\n",
        "print('Precision Score : ',(precision_score(y_test, y_pred)))\n",
        "print('Recall Score : ',(recall_score(y_test, y_pred)))"
      ],
      "metadata": {
        "colab": {
          "base_uri": "https://localhost:8080/"
        },
        "id": "lj8675svrO0W",
        "outputId": "c61ddc71-21e9-4908-88be-1575a51f7a17"
      },
      "execution_count": 222,
      "outputs": [
        {
          "output_type": "stream",
          "name": "stdout",
          "text": [
            "Accuracy:  77.13 %\n",
            "F-1 Score :  0.6153846153846154\n",
            "Precision Score :  0.49122807017543857\n",
            "Recall Score :  0.8235294117647058\n"
          ]
        }
      ]
    },
    {
      "cell_type": "markdown",
      "source": [
        "**Decision** **Tree**"
      ],
      "metadata": {
        "id": "E-bkBvB1sJim"
      }
    },
    {
      "cell_type": "code",
      "source": [
        "from sklearn.tree import DecisionTreeClassifier\n",
        "\n",
        "dt=DecisionTreeClassifier(random_state=0)\n",
        "scores = cross_val_score(dt,X_under,y_under,cv = cv,scoring = 'accuracy')\n",
        "dt.fit(X_train, y_train)\n",
        "\n",
        "y_pred = dt.predict(X_test)\n",
        "print(\"Accuracy: \", round(np.mean(scores)*100 ,2), \"%\")\n",
        "\n",
        "from sklearn.metrics import accuracy_score, f1_score, precision_score, recall_score\n",
        "print('F-1 Score : ',(f1_score(y_test, y_pred)))\n",
        "print('Precision Score : ',(precision_score(y_test, y_pred)))\n",
        "print('Recall Score : ',(recall_score(y_test, y_pred)))"
      ],
      "metadata": {
        "colab": {
          "base_uri": "https://localhost:8080/"
        },
        "id": "DHzfelUusCwN",
        "outputId": "52b13ce7-e599-4904-ac48-38b78cb9e9c6"
      },
      "execution_count": 229,
      "outputs": [
        {
          "output_type": "stream",
          "name": "stdout",
          "text": [
            "Accuracy:  69.75 %\n",
            "F-1 Score :  0.4444444444444444\n",
            "Precision Score :  0.42105263157894735\n",
            "Recall Score :  0.47058823529411764\n"
          ]
        }
      ]
    },
    {
      "cell_type": "markdown",
      "source": [
        "**SGD** **Classifier**"
      ],
      "metadata": {
        "id": "LqSIFJEjsaUe"
      }
    },
    {
      "cell_type": "code",
      "source": [
        "from sklearn.linear_model import SGDClassifier\n",
        "\n",
        "sgc=SGDClassifier(random_state=0)\n",
        "scores = cross_val_score(sgc,X_under,y_under,cv = cv,scoring = 'accuracy')\n",
        "sgc.fit(X_train, y_train)\n",
        "\n",
        "y_pred = sgc.predict(X_test)\n",
        "print(\"Accuracy: \", round(np.mean(scores)*100 ,2), \"%\")\n",
        "\n",
        "from sklearn.metrics import accuracy_score, f1_score, precision_score, recall_score\n",
        "print('F-1 Score : ',(f1_score(y_test, y_pred)))\n",
        "print('Precision Score : ',(precision_score(y_test, y_pred)))\n",
        "print('Recall Score : ',(recall_score(y_test, y_pred)))"
      ],
      "metadata": {
        "colab": {
          "base_uri": "https://localhost:8080/"
        },
        "id": "cYW8TuHHs5cm",
        "outputId": "de459981-84ca-46c3-8895-ce8dba935c97"
      },
      "execution_count": 230,
      "outputs": [
        {
          "output_type": "stream",
          "name": "stdout",
          "text": [
            "Accuracy:  69.32 %\n",
            "F-1 Score :  0.4347826086956522\n",
            "Precision Score :  0.8333333333333334\n",
            "Recall Score :  0.29411764705882354\n"
          ]
        }
      ]
    },
    {
      "cell_type": "markdown",
      "source": [
        "**NAIVE** **BAYES**"
      ],
      "metadata": {
        "id": "zjq7z5L_tcY8"
      }
    },
    {
      "cell_type": "code",
      "source": [
        "from sklearn.naive_bayes import MultinomialNB\n",
        "\n",
        "mnb=MultinomialNB()\n",
        "scores = cross_val_score(mnb,X_under,y_under,cv = cv,scoring = 'accuracy')\n",
        "mnb.fit(X_train, y_train)\n",
        "\n",
        "y_pred = mnb.predict(X_test)\n",
        "print(\"Accuracy: \", round(np.mean(scores)*100 ,2), \"%\")\n",
        "\n",
        "from sklearn.metrics import accuracy_score, f1_score, precision_score, recall_score\n",
        "print('F-1 Score : ',(f1_score(y_test, y_pred)))\n",
        "print('Precision Score : ',(precision_score(y_test, y_pred)))\n",
        "print('Recall Score : ',(recall_score(y_test, y_pred)))"
      ],
      "metadata": {
        "colab": {
          "base_uri": "https://localhost:8080/"
        },
        "id": "NcV7EQogtXJN",
        "outputId": "2ef1d3f2-60ef-44c3-d6d2-0a0808d36b77"
      },
      "execution_count": 231,
      "outputs": [
        {
          "output_type": "stream",
          "name": "stdout",
          "text": [
            "Accuracy:  73.64 %\n",
            "F-1 Score :  0.6153846153846153\n",
            "Precision Score :  0.5454545454545454\n",
            "Recall Score :  0.7058823529411765\n"
          ]
        }
      ]
    }
  ]
}